{
 "cells": [
  {
   "cell_type": "code",
   "execution_count": 5,
   "id": "17ec1857-4a68-4edd-a801-3d109d2ad361",
   "metadata": {},
   "outputs": [
    {
     "name": "stdout",
     "output_type": "stream",
     "text": [
      "Вихідний масив:\n",
      "[17, 25, 11, 18, 24, 37, 49, 38, 38, 11, 7, 39, 25, 26, 20, 50, 35, 33, 0, 41]\n"
     ]
    },
    {
     "name": "stdin",
     "output_type": "stream",
     "text": [
      "\n",
      "Введіть порогове значення:  6\n"
     ]
    },
    {
     "name": "stdout",
     "output_type": "stream",
     "text": [
      "Кількість елементів вище 6: 19\n",
      "\n",
      "Максимальне значення: 50\n",
      "Позиція: 15\n",
      "\n",
      "Масив за спаданням:\n",
      "[50, 49, 41, 39, 38, 38, 37, 35, 33, 26, 25, 25, 24, 20, 18, 17, 11, 11, 7, 0]\n"
     ]
    }
   ],
   "source": [
    "import random\n",
    "\n",
    "# завдання 1\n",
    "array = []\n",
    "for i in range(20):\n",
    "    array.append(random.randint(0, 50))\n",
    "\n",
    "print(\"Вихідний масив:\")\n",
    "print(array)\n",
    "\n",
    "while True:\n",
    "    try:\n",
    "        td = int(input(\"\\nВведіть порогове значення: \"))\n",
    "        break\n",
    "    except ValueError:\n",
    "        print(\"ВВедіть число\")\n",
    "\n",
    "count_above = 0\n",
    "for num in array:\n",
    "    if num > td:\n",
    "        count_above += 1\n",
    "print(f\"Кількість елементів вище {td}: {count_above}\")\n",
    "\n",
    "max_value = max(array)\n",
    "max_index = array.index(max_value)\n",
    "print(f\"\\nМаксимальне значення: {max_value}\")\n",
    "print(f\"Позиція: {max_index}\")\n",
    "\n",
    "sorted_array = sorted(array, reverse=True)\n",
    "print(\"\\nМасив за спаданням:\")\n",
    "print(sorted_array)"
   ]
  },
  {
   "cell_type": "code",
   "execution_count": 6,
   "id": "9e1a8a79-b379-43d3-9cc7-674a39c2513d",
   "metadata": {},
   "outputs": [
    {
     "name": "stdin",
     "output_type": "stream",
     "text": [
      "Введіть нижню межу діапазону:  8\n",
      "Введіть верхню межу діапазону:  15\n"
     ]
    },
    {
     "name": "stdout",
     "output_type": "stream",
     "text": [
      "\n",
      "Вихідна матриця:\n",
      "[14, 8, 10, 8, 14]\n",
      "[11, 13, 13, 14, 14]\n",
      "[13, 14, 13, 9, 10]\n",
      "[14, 8, 8, 12, 15]\n",
      "[15, 11, 13, 8, 12]\n",
      "\n",
      "Елементи головної діагоналі: [14, 13, 13, 12, 12]\n",
      "Сума елементів головної діагоналі: 64\n",
      "\n",
      "Матриця:\n",
      "[14, 0, 0, 0, 0]\n",
      "[11, 13, 0, 0, 0]\n",
      "[13, 14, 13, 0, 0]\n",
      "[14, 8, 8, 12, 0]\n",
      "[15, 11, 13, 8, 12]\n"
     ]
    }
   ],
   "source": [
    "# Завдання 2\n",
    "import random\n",
    "\n",
    "while True:\n",
    "    try:\n",
    "        lower = int(input(\"Введіть нижню межу діапазону: \"))\n",
    "        upper = int(input(\"Введіть верхню межу діапазону: \"))\n",
    "        if lower <= upper:\n",
    "            break\n",
    "        else:\n",
    "            print(\"Нижня межа не може бути більшою за верхню\")\n",
    "    except ValueError:\n",
    "        print(\"Введіть числа\")\n",
    "\n",
    "matrix = []\n",
    "for i in range(5):\n",
    "    row = []\n",
    "    for j in range(5):\n",
    "        row.append(random.randint(lower, upper))\n",
    "    matrix.append(row)\n",
    "\n",
    "print(\"\\nВихідна матриця:\")\n",
    "for row in matrix:\n",
    "    print(row)\n",
    "\n",
    "main_elements = []\n",
    "for i in range(5):\n",
    "    main_elements.append(matrix[i][i])\n",
    "\n",
    "print(f\"\\nЕлементи головної діагоналі: {main_elements}\")\n",
    "sum_ = sum(main_elements)\n",
    "print(f\"Сума елементів головної діагоналі: {sum_}\")\n",
    "\n",
    "for i in range(5):\n",
    "    for j in range(5):\n",
    "        if j > i:\n",
    "            matrix[i][j] = 0\n",
    "\n",
    "print(\"\\nМатриця:\")\n",
    "for row in matrix:\n",
    "    print(row)"
   ]
  },
  {
   "cell_type": "code",
   "execution_count": 9,
   "id": "0c36aaae-5c24-4cfd-a8cc-61873edc99b5",
   "metadata": {},
   "outputs": [
    {
     "name": "stdin",
     "output_type": "stream",
     "text": [
      "Введіть початок діапазону:  3\n",
      "Введіть кінець діапазону:  50\n"
     ]
    },
    {
     "name": "stdout",
     "output_type": "stream",
     "text": [
      "\n",
      "Сформована матриця 6x5:\n",
      "[3, 4, 5, 6, 7]\n",
      "[8, 9, 10, 11, 12]\n",
      "[13, 14, 15, 16, 17]\n",
      "[18, 19, 20, 21, 22]\n",
      "[23, 24, 25, 26, 27]\n",
      "[28, 29, 30, 31, 32]\n",
      "\n",
      "Суми елементів кожного рядка:\n",
      "[25, 50, 75, 100, 125, 150]\n",
      "\n",
      "Максимальні значення в кожному стовпчику:\n",
      "[28, 29, 30, 31, 32]\n"
     ]
    }
   ],
   "source": [
    "# завдання 3\n",
    "while True:\n",
    "    try:\n",
    "        start = int(input(\"Введіть початок діапазону: \"))\n",
    "        end = int(input(\"Введіть кінець діапазону: \"))\n",
    "        \n",
    "        if (end - start + 1) >= 30:\n",
    "            break\n",
    "        else:\n",
    "            print(f\"Діапазон має містити мінімум 30 чисел\")\n",
    "    except ValueError:\n",
    "        print(\"Будь ласка, введіть дійсні цілі числа.\")\n",
    "\n",
    "s = list(range(start, end + 1))\n",
    "\n",
    "matrix = []\n",
    "num_rows = 6\n",
    "num_cols = 5\n",
    "for i in range(num_rows):\n",
    "    row = []\n",
    "    for j in range(num_cols):\n",
    "        row.append(s[i * num_cols + j])\n",
    "    matrix.append(row)\n",
    "\n",
    "print(\"\\nСформована матриця 6x5:\")\n",
    "for row in matrix:\n",
    "    print(row)\n",
    "\n",
    "row_sums = []\n",
    "for row in matrix:\n",
    "    cur_sum = sum(row)\n",
    "    row_sums.append(cur_sum)\n",
    "\n",
    "print(\"\\nСуми елементів кожного рядка:\")\n",
    "print(row_sums)\n",
    "\n",
    "column_max = []\n",
    "for j in range(num_cols):\n",
    "    cur_column = []\n",
    "    for i in range(num_rows):\n",
    "        cur_column.append(matrix[i][j])\n",
    "    column_max.append(max(cur_column))\n",
    "\n",
    "print(\"\\nМаксимальні значення в кожному стовпчику:\")\n",
    "print(column_max)"
   ]
  },
  {
   "cell_type": "code",
   "execution_count": 13,
   "id": "4475b707-7259-40ac-a834-853293374088",
   "metadata": {},
   "outputs": [
    {
     "name": "stdin",
     "output_type": "stream",
     "text": [
      "Введіть нижню межу діапазону (відємну):  -100\n",
      "Введіть верхню межу діапазону:  100\n"
     ]
    },
    {
     "name": "stdout",
     "output_type": "stream",
     "text": [
      "\n",
      "Вихідний масив:\n",
      "[88, -24, 90, -54, 36, -81, 90, 19, -74, 44, -85, 70, -46, -33, 86]\n",
      "\n",
      "Від'ємні елементи:\n",
      "[-24, -54, -81, -74, -85, -46, -33]\n",
      "\n",
      "Змінений масив:\n",
      "[88, 0, 90, 0, 36, 0, 90, 19, 0, 44, 0, 70, 0, 0, 86]\n",
      "\n",
      "Кількість нульових елементів у масиві: 7\n"
     ]
    }
   ],
   "source": [
    "import random\n",
    "\n",
    "# завдання 4\n",
    "while True:\n",
    "    try:\n",
    "        lower = int(input(\"Введіть нижню межу діапазону (відємну): \"))\n",
    "        upper = int(input(\"Введіть верхню межу діапазону: \"))\n",
    "        if lower <= upper:\n",
    "            break\n",
    "        else:\n",
    "            print(\"Нижня межа не може бути більшою за верхню\")\n",
    "    except ValueError:\n",
    "        print(\"Введіть цілі числа\")\n",
    "\n",
    "array = []\n",
    "for _ in range(15):\n",
    "    array.append(random.randint(lower, upper))\n",
    "\n",
    "print(\"\\nВихідний масив:\")\n",
    "print(array)\n",
    "\n",
    "n_elements = []\n",
    "for number in array:\n",
    "    if number < 0:\n",
    "        n_elements.append(number)\n",
    "print(\"\\nВід'ємні елементи:\")\n",
    "print(n_elements)\n",
    "\n",
    "new_array = array.copy()  \n",
    "for i in range(len(new_array)):\n",
    "    if new_array[i] < 0:\n",
    "        new_array[i] = 0\n",
    "print(\"\\nЗмінений масив:\")\n",
    "print(new_array)\n",
    "\n",
    "count = 0\n",
    "for number in new_array:\n",
    "    if number == 0:\n",
    "        count += 1\n",
    "print(f\"\\nКількість нульових елементів у масиві: {count}\")"
   ]
  }
 ],
 "metadata": {
  "kernelspec": {
   "display_name": "Python 3 (ipykernel)",
   "language": "python",
   "name": "python3"
  },
  "language_info": {
   "codemirror_mode": {
    "name": "ipython",
    "version": 3
   },
   "file_extension": ".py",
   "mimetype": "text/x-python",
   "name": "python",
   "nbconvert_exporter": "python",
   "pygments_lexer": "ipython3",
   "version": "3.12.1"
  }
 },
 "nbformat": 4,
 "nbformat_minor": 5
}
